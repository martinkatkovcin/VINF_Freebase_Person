{
 "cells": [
  {
   "cell_type": "code",
   "execution_count": 524,
   "source": [
    "from pyspark.sql import SparkSession\n",
    "from pyspark.sql import SQLContext\n",
    "from pyspark.sql.types import *\n",
    "from pyspark.sql import functions as f\n",
    "import re\n",
    "\n",
    "import findspark\n",
    "findspark.init()"
   ],
   "outputs": [
    {
     "output_type": "stream",
     "name": "stderr",
     "text": []
    }
   ],
   "metadata": {}
  },
  {
   "cell_type": "code",
   "execution_count": 525,
   "source": [
    "re_name = '(\\/[gm]\\..+\\t<http:\\/\\/rdf\\.freebase\\.com\\/ns\\/type\\.object\\.name>\\t\\\".*\\\"@en)'\n",
    "re_person = '(\\/[gm]\\..+\\t<http:\\/\\/rdf\\.freebase\\.com\\/ns\\/people\\.person\\..*>\\t)'\n",
    "re_dec_person = '(\\/[gm]\\..+\\t<http:\\/\\/rdf\\.freebase\\.com\\/ns\\/people\\.deceased_person\\..*>\\t)'\n",
    "\n",
    "pathFile = '../data/freebase-head-100000000'"
   ],
   "outputs": [
    {
     "output_type": "stream",
     "name": "stderr",
     "text": []
    }
   ],
   "metadata": {}
  },
  {
   "cell_type": "code",
   "execution_count": 526,
   "source": [
    "sc = SparkSession.builder.master('local[*]').appName('IR Person entity, FREEBASE').config(\"spark.driver.memory\", \"15g\").getOrCreate()"
   ],
   "outputs": [
    {
     "output_type": "stream",
     "name": "stderr",
     "text": []
    }
   ],
   "metadata": {}
  },
  {
   "cell_type": "code",
   "execution_count": 527,
   "source": [
    "schema = StructType([StructField('id', StringType(), True),\n",
    "                    StructField('predicate', StringType(), True),\n",
    "                    StructField('value', StringType(), True, metadata = {\"maxlength\":2048})])"
   ],
   "outputs": [
    {
     "output_type": "stream",
     "name": "stderr",
     "text": []
    }
   ],
   "metadata": {}
  },
  {
   "cell_type": "code",
   "execution_count": 528,
   "source": [
    "freebase = sc.sparkContext.textFile(pathFile)\n",
    "filtered_data = freebase \\\n",
    "    .filter(lambda x: re.search(re_name, x) or re.search(re_person, x) or re.search(re_dec_person, x)) \\\n",
    "    .distinct() \\\n",
    "    .map(lambda x: re.sub('(http\\:\\/\\/rdf.freebase.com\\/ns\\/)|(\\^\\^.*\\.)|(\\@.*\\.)|\\<|\\>|\\\"|(\\t\\.)',\"\",x)) \\\n",
    "    .map(lambda x: x.split('\\t')) "
   ],
   "outputs": [
    {
     "output_type": "stream",
     "name": "stderr",
     "text": []
    }
   ],
   "metadata": {}
  },
  {
   "cell_type": "code",
   "execution_count": 529,
   "source": [
    "data_reference = sc.sparkContext.textFile(pathFile)\n",
    "data_reference = freebase \\\n",
    "    .filter(lambda x: re.search(re_name, x)) \\\n",
    "    .distinct() \\\n",
    "    .map(lambda x: re.sub('(http\\:\\/\\/rdf.freebase.com\\/ns\\/)|(\\^\\^.*\\.)|(\\@.*\\.)|\\<|\\>|\\\"|(\\t\\.)',\"\",x)) \\\n",
    "    .map(lambda x: x.split('\\t')) "
   ],
   "outputs": [
    {
     "output_type": "stream",
     "name": "stderr",
     "text": []
    }
   ],
   "metadata": {}
  },
  {
   "cell_type": "code",
   "execution_count": 530,
   "source": [
    "#filtered_aliases = sc.createDataFrame(data_aliases_filtered.filter(lambda x: \"common.topic.alias\" in x[1]), schema)\n",
    "filtered_aliases = sc.createDataFrame(data_reference.filter(lambda x: \"type.object.name\" in x[1]), schema)"
   ],
   "outputs": [
    {
     "output_type": "stream",
     "name": "stderr",
     "text": []
    }
   ],
   "metadata": {}
  },
  {
   "cell_type": "code",
   "execution_count": 531,
   "source": [
    "names = sc.createDataFrame(filtered_data.filter(lambda x: \"type.object.name\" in x[1]), schema)\n",
    "births = sc.createDataFrame(filtered_data.filter(lambda x: \"people.person.date_of_birth\" in x[1]), schema)\n",
    "deaths = sc.createDataFrame(filtered_data.filter(lambda x: \"people.deceased_person.date_of_death\" in x[1]), schema)\n",
    "nationality = sc.createDataFrame(filtered_data.filter(lambda x: \"people.person.nationality\" in x[1]), schema)\n",
    "height_meters = sc.createDataFrame(filtered_data.filter(lambda x: \"people.person.height_meters\" in x[1]), schema)\n",
    "weight_kg = sc.createDataFrame(filtered_data.filter(lambda x: \"people.person.weight\" in x[1]), schema)\n",
    "place_of_birth = sc.createDataFrame(filtered_data.filter(lambda x: \"people.person.place_of_birth\" in x[1]), schema)\n",
    "others = sc.createDataFrame(filtered_data.filter(lambda x: \"people\" in x[1] and \"date_of_birth\" not in x[1] and \"date_of_death\" not in x[1]), schema)"
   ],
   "outputs": [
    {
     "output_type": "stream",
     "name": "stderr",
     "text": []
    }
   ],
   "metadata": {}
  },
  {
   "cell_type": "code",
   "execution_count": 532,
   "source": [
    "births = births.withColumn(\"note\", f.lit(\"\"))\n",
    "deaths = deaths.withColumn(\"note\", f.lit(\"\"))"
   ],
   "outputs": [
    {
     "output_type": "stream",
     "name": "stderr",
     "text": []
    }
   ],
   "metadata": {}
  },
  {
   "cell_type": "code",
   "execution_count": 533,
   "source": [
    "names.registerTempTable(\"names\")\n",
    "births.registerTempTable(\"births\")\n",
    "deaths.registerTempTable(\"deaths\")\n",
    "nationality.registerTempTable(\"nationality\")\n",
    "height_meters.registerTempTable(\"height_meters\")\n",
    "place_of_birth.registerTempTable(\"place_of_birth\")\n",
    "weight_kg.registerTempTable(\"weight_kg\")\n",
    "others.registerTempTable(\"others\")"
   ],
   "outputs": [
    {
     "output_type": "stream",
     "name": "stderr",
     "text": []
    }
   ],
   "metadata": {}
  },
  {
   "cell_type": "code",
   "execution_count": 534,
   "source": [
    "sql_context = SQLContext(sc.sparkContext)"
   ],
   "outputs": [
    {
     "output_type": "stream",
     "name": "stderr",
     "text": []
    }
   ],
   "metadata": {}
  },
  {
   "cell_type": "code",
   "execution_count": 535,
   "source": [
    "first_iteration_people = sql_context.sql(\"\"\"\n",
    "    select names.id as id, names.value as name,\n",
    "    case\n",
    "        when births.value is not null then (cast(births.value as date)) \n",
    "        when deaths.value is not null and births.value is null then (cast(deaths.value as date) - 100*365)\n",
    "        when deaths.value is null and births.value is null then ''\n",
    "    end as birth,\n",
    "    case\n",
    "        when deaths.value is not null then (cast(deaths.value as date))\n",
    "        when births.value is not null and deaths.value is null then (cast(births.value as date) + 100*365)\n",
    "        when deaths.value is null and births.value is null then ''\n",
    "    end as death,\n",
    "    ifnull(place_of_birth.value, '') as place_of_birth_ref,\n",
    "    ROUND(ifnull(weight_kg.value, ''), 2) weight_kg,\n",
    "    ifnull(nationality.value, '') as nationality_ref,\n",
    "    ROUND(ifnull(height_meters.value, ''), 2) as height_meters,\n",
    "    ifnull(births.note, 'Birthdate could not be valid.') as birth_validation,\n",
    "    ifnull(deaths.note, 'Death date could not be valid..') as death_validation\n",
    "    from names\n",
    "    left join births on names.id = births.id\n",
    "    left join deaths on names.id = deaths.id\n",
    "    left join nationality on names.id = nationality.id\n",
    "    left join height_meters on names.id = height_meters.id\n",
    "    left join place_of_birth on names.id = place_of_birth.id\n",
    "    left join weight_kg on names.id = weight_kg.id\n",
    "    left join others on names.id = others.id\n",
    "    where births.value is not null or deaths.value is not null or nationality.value is not null or height_meters.value is not null \n",
    "    or place_of_birth.value is not null or weight_kg.value is not null or others.value is not null\n",
    "    \"\"\")\n",
    "\n",
    "first_iteration_people = first_iteration_people.drop_duplicates().distinct()"
   ],
   "outputs": [
    {
     "output_type": "stream",
     "name": "stderr",
     "text": []
    }
   ],
   "metadata": {}
  },
  {
   "cell_type": "code",
   "execution_count": 536,
   "source": [
    "first_iteration_people = first_iteration_people.withColumnRenamed(\"id\", \"id_person\")"
   ],
   "outputs": [
    {
     "output_type": "stream",
     "name": "stderr",
     "text": []
    }
   ],
   "metadata": {}
  },
  {
   "cell_type": "code",
   "execution_count": 522,
   "source": [
    "#first_iteration_people.show()"
   ],
   "outputs": [],
   "metadata": {}
  },
  {
   "cell_type": "code",
   "execution_count": 523,
   "source": [
    "first_iteration_people.repartition(1).write.mode(\"overwrite\").format('com.databricks.spark.csv') \\\n",
    "    .option(\"mapreduce.fileutputcommitter.marksuccessfuljobs\", \"false\").save('outputs/first_iteration', header = 'true')"
   ],
   "outputs": [
    {
     "output_type": "stream",
     "name": "stderr",
     "text": [
      "ERROR:root:KeyboardInterrupt while sending command.\n",
      "Traceback (most recent call last):\n",
      "  File \"/opt/homebrew/lib/python3.10/site-packages/py4j/java_gateway.py\", line 1038, in send_command\n",
      "    response = connection.send_command(command)\n",
      "  File \"/opt/homebrew/lib/python3.10/site-packages/py4j/clientserver.py\", line 511, in send_command\n",
      "    answer = smart_decode(self.stream.readline()[:-1])\n",
      "  File \"/opt/homebrew/Cellar/python@3.10/3.10.8/Frameworks/Python.framework/Versions/3.10/lib/python3.10/socket.py\", line 705, in readinto\n",
      "    return self._sock.recv_into(b)\n",
      "KeyboardInterrupt\n"
     ]
    },
    {
     "output_type": "error",
     "ename": "KeyboardInterrupt",
     "evalue": "",
     "traceback": [
      "\u001b[0;31m---------------------------------------------------------------------------\u001b[0m",
      "\u001b[0;31mKeyboardInterrupt\u001b[0m                         Traceback (most recent call last)",
      "Cell \u001b[0;32mIn [523], line 1\u001b[0m\n\u001b[0;32m----> 1\u001b[0m \u001b[43mfirst_iteration_people\u001b[49m\u001b[38;5;241;43m.\u001b[39;49m\u001b[43mrepartition\u001b[49m\u001b[43m(\u001b[49m\u001b[38;5;241;43m1\u001b[39;49m\u001b[43m)\u001b[49m\u001b[38;5;241;43m.\u001b[39;49m\u001b[43mwrite\u001b[49m\u001b[38;5;241;43m.\u001b[39;49m\u001b[43mmode\u001b[49m\u001b[43m(\u001b[49m\u001b[38;5;124;43m\"\u001b[39;49m\u001b[38;5;124;43moverwrite\u001b[39;49m\u001b[38;5;124;43m\"\u001b[39;49m\u001b[43m)\u001b[49m\u001b[38;5;241;43m.\u001b[39;49m\u001b[43mformat\u001b[49m\u001b[43m(\u001b[49m\u001b[38;5;124;43m'\u001b[39;49m\u001b[38;5;124;43mcom.databricks.spark.csv\u001b[39;49m\u001b[38;5;124;43m'\u001b[39;49m\u001b[43m)\u001b[49m\u001b[43m \u001b[49m\u001b[43m\\\u001b[49m\n\u001b[1;32m      2\u001b[0m \u001b[43m    \u001b[49m\u001b[38;5;241;43m.\u001b[39;49m\u001b[43moption\u001b[49m\u001b[43m(\u001b[49m\u001b[38;5;124;43m\"\u001b[39;49m\u001b[38;5;124;43mmapreduce.fileutputcommitter.marksuccessfuljobs\u001b[39;49m\u001b[38;5;124;43m\"\u001b[39;49m\u001b[43m,\u001b[49m\u001b[43m \u001b[49m\u001b[38;5;124;43m\"\u001b[39;49m\u001b[38;5;124;43mfalse\u001b[39;49m\u001b[38;5;124;43m\"\u001b[39;49m\u001b[43m)\u001b[49m\u001b[38;5;241;43m.\u001b[39;49m\u001b[43msave\u001b[49m\u001b[43m(\u001b[49m\u001b[38;5;124;43m'\u001b[39;49m\u001b[38;5;124;43moutputs/first_iteration\u001b[39;49m\u001b[38;5;124;43m'\u001b[39;49m\u001b[43m,\u001b[49m\u001b[43m \u001b[49m\u001b[43mheader\u001b[49m\u001b[43m \u001b[49m\u001b[38;5;241;43m=\u001b[39;49m\u001b[43m \u001b[49m\u001b[38;5;124;43m'\u001b[39;49m\u001b[38;5;124;43mtrue\u001b[39;49m\u001b[38;5;124;43m'\u001b[39;49m\u001b[43m)\u001b[49m\n",
      "File \u001b[0;32m/opt/homebrew/lib/python3.10/site-packages/pyspark/sql/readwriter.py:968\u001b[0m, in \u001b[0;36mDataFrameWriter.save\u001b[0;34m(self, path, format, mode, partitionBy, **options)\u001b[0m\n\u001b[1;32m    966\u001b[0m     \u001b[38;5;28mself\u001b[39m\u001b[38;5;241m.\u001b[39m_jwrite\u001b[38;5;241m.\u001b[39msave()\n\u001b[1;32m    967\u001b[0m \u001b[38;5;28;01melse\u001b[39;00m:\n\u001b[0;32m--> 968\u001b[0m     \u001b[38;5;28;43mself\u001b[39;49m\u001b[38;5;241;43m.\u001b[39;49m\u001b[43m_jwrite\u001b[49m\u001b[38;5;241;43m.\u001b[39;49m\u001b[43msave\u001b[49m\u001b[43m(\u001b[49m\u001b[43mpath\u001b[49m\u001b[43m)\u001b[49m\n",
      "File \u001b[0;32m/opt/homebrew/lib/python3.10/site-packages/py4j/java_gateway.py:1320\u001b[0m, in \u001b[0;36mJavaMember.__call__\u001b[0;34m(self, *args)\u001b[0m\n\u001b[1;32m   1313\u001b[0m args_command, temp_args \u001b[38;5;241m=\u001b[39m \u001b[38;5;28mself\u001b[39m\u001b[38;5;241m.\u001b[39m_build_args(\u001b[38;5;241m*\u001b[39margs)\n\u001b[1;32m   1315\u001b[0m command \u001b[38;5;241m=\u001b[39m proto\u001b[38;5;241m.\u001b[39mCALL_COMMAND_NAME \u001b[38;5;241m+\u001b[39m\\\n\u001b[1;32m   1316\u001b[0m     \u001b[38;5;28mself\u001b[39m\u001b[38;5;241m.\u001b[39mcommand_header \u001b[38;5;241m+\u001b[39m\\\n\u001b[1;32m   1317\u001b[0m     args_command \u001b[38;5;241m+\u001b[39m\\\n\u001b[1;32m   1318\u001b[0m     proto\u001b[38;5;241m.\u001b[39mEND_COMMAND_PART\n\u001b[0;32m-> 1320\u001b[0m answer \u001b[38;5;241m=\u001b[39m \u001b[38;5;28;43mself\u001b[39;49m\u001b[38;5;241;43m.\u001b[39;49m\u001b[43mgateway_client\u001b[49m\u001b[38;5;241;43m.\u001b[39;49m\u001b[43msend_command\u001b[49m\u001b[43m(\u001b[49m\u001b[43mcommand\u001b[49m\u001b[43m)\u001b[49m\n\u001b[1;32m   1321\u001b[0m return_value \u001b[38;5;241m=\u001b[39m get_return_value(\n\u001b[1;32m   1322\u001b[0m     answer, \u001b[38;5;28mself\u001b[39m\u001b[38;5;241m.\u001b[39mgateway_client, \u001b[38;5;28mself\u001b[39m\u001b[38;5;241m.\u001b[39mtarget_id, \u001b[38;5;28mself\u001b[39m\u001b[38;5;241m.\u001b[39mname)\n\u001b[1;32m   1324\u001b[0m \u001b[38;5;28;01mfor\u001b[39;00m temp_arg \u001b[38;5;129;01min\u001b[39;00m temp_args:\n",
      "File \u001b[0;32m/opt/homebrew/lib/python3.10/site-packages/py4j/java_gateway.py:1038\u001b[0m, in \u001b[0;36mGatewayClient.send_command\u001b[0;34m(self, command, retry, binary)\u001b[0m\n\u001b[1;32m   1036\u001b[0m connection \u001b[38;5;241m=\u001b[39m \u001b[38;5;28mself\u001b[39m\u001b[38;5;241m.\u001b[39m_get_connection()\n\u001b[1;32m   1037\u001b[0m \u001b[38;5;28;01mtry\u001b[39;00m:\n\u001b[0;32m-> 1038\u001b[0m     response \u001b[38;5;241m=\u001b[39m \u001b[43mconnection\u001b[49m\u001b[38;5;241;43m.\u001b[39;49m\u001b[43msend_command\u001b[49m\u001b[43m(\u001b[49m\u001b[43mcommand\u001b[49m\u001b[43m)\u001b[49m\n\u001b[1;32m   1039\u001b[0m     \u001b[38;5;28;01mif\u001b[39;00m binary:\n\u001b[1;32m   1040\u001b[0m         \u001b[38;5;28;01mreturn\u001b[39;00m response, \u001b[38;5;28mself\u001b[39m\u001b[38;5;241m.\u001b[39m_create_connection_guard(connection)\n",
      "File \u001b[0;32m/opt/homebrew/lib/python3.10/site-packages/py4j/clientserver.py:511\u001b[0m, in \u001b[0;36mClientServerConnection.send_command\u001b[0;34m(self, command)\u001b[0m\n\u001b[1;32m    509\u001b[0m \u001b[38;5;28;01mtry\u001b[39;00m:\n\u001b[1;32m    510\u001b[0m     \u001b[38;5;28;01mwhile\u001b[39;00m \u001b[38;5;28;01mTrue\u001b[39;00m:\n\u001b[0;32m--> 511\u001b[0m         answer \u001b[38;5;241m=\u001b[39m smart_decode(\u001b[38;5;28;43mself\u001b[39;49m\u001b[38;5;241;43m.\u001b[39;49m\u001b[43mstream\u001b[49m\u001b[38;5;241;43m.\u001b[39;49m\u001b[43mreadline\u001b[49m\u001b[43m(\u001b[49m\u001b[43m)\u001b[49m[:\u001b[38;5;241m-\u001b[39m\u001b[38;5;241m1\u001b[39m])\n\u001b[1;32m    512\u001b[0m         logger\u001b[38;5;241m.\u001b[39mdebug(\u001b[38;5;124m\"\u001b[39m\u001b[38;5;124mAnswer received: \u001b[39m\u001b[38;5;132;01m{0}\u001b[39;00m\u001b[38;5;124m\"\u001b[39m\u001b[38;5;241m.\u001b[39mformat(answer))\n\u001b[1;32m    513\u001b[0m         \u001b[38;5;66;03m# Happens when a the other end is dead. There might be an empty\u001b[39;00m\n\u001b[1;32m    514\u001b[0m         \u001b[38;5;66;03m# answer before the socket raises an error.\u001b[39;00m\n",
      "File \u001b[0;32m/opt/homebrew/Cellar/python@3.10/3.10.8/Frameworks/Python.framework/Versions/3.10/lib/python3.10/socket.py:705\u001b[0m, in \u001b[0;36mSocketIO.readinto\u001b[0;34m(self, b)\u001b[0m\n\u001b[1;32m    703\u001b[0m \u001b[38;5;28;01mwhile\u001b[39;00m \u001b[38;5;28;01mTrue\u001b[39;00m:\n\u001b[1;32m    704\u001b[0m     \u001b[38;5;28;01mtry\u001b[39;00m:\n\u001b[0;32m--> 705\u001b[0m         \u001b[38;5;28;01mreturn\u001b[39;00m \u001b[38;5;28;43mself\u001b[39;49m\u001b[38;5;241;43m.\u001b[39;49m\u001b[43m_sock\u001b[49m\u001b[38;5;241;43m.\u001b[39;49m\u001b[43mrecv_into\u001b[49m\u001b[43m(\u001b[49m\u001b[43mb\u001b[49m\u001b[43m)\u001b[49m\n\u001b[1;32m    706\u001b[0m     \u001b[38;5;28;01mexcept\u001b[39;00m timeout:\n\u001b[1;32m    707\u001b[0m         \u001b[38;5;28mself\u001b[39m\u001b[38;5;241m.\u001b[39m_timeout_occurred \u001b[38;5;241m=\u001b[39m \u001b[38;5;28;01mTrue\u001b[39;00m\n",
      "\u001b[0;31mKeyboardInterrupt\u001b[0m: "
     ]
    },
    {
     "output_type": "stream",
     "name": "stderr",
     "text": []
    }
   ],
   "metadata": {}
  },
  {
   "cell_type": "code",
   "execution_count": 537,
   "source": [
    "second_interation_nationality = first_iteration_people.join(filtered_aliases, first_iteration_people[\"nationality_ref\"] == filtered_aliases[\"id\"], \"left\")"
   ],
   "outputs": [],
   "metadata": {}
  },
  {
   "cell_type": "code",
   "execution_count": 538,
   "source": [
    "second_interation_nationality = second_interation_nationality.withColumnRenamed(\"value\", \"nationality\")\n",
    "second_interation_nationality = second_interation_nationality.drop(\"id\", \"predicate\", \"nationality_ref\")"
   ],
   "outputs": [
    {
     "output_type": "stream",
     "name": "stderr",
     "text": []
    }
   ],
   "metadata": {}
  },
  {
   "cell_type": "code",
   "execution_count": null,
   "source": [
    "#second_interation_nationality.show()"
   ],
   "outputs": [
    {
     "output_type": "stream",
     "name": "stderr",
     "text": []
    },
    {
     "output_type": "stream",
     "name": "stdout",
     "text": [
      "+----------+--------------------+----------+----------+------------------+---------+-------------+--------------------+--------------------+-----------+\n",
      "| id_person|                name|     birth|     death|place_of_birth_ref|weight_kg|height_meters|    birth_validation|    death_validation|nationality|\n",
      "+----------+--------------------+----------+----------+------------------+---------+-------------+--------------------+--------------------+-----------+\n",
      "| m.03h4grl|       Justin Walker|1975-09-06|2075-08-12|           m.09tlh|     null|         null|                    |Death date could ...|       null|\n",
      "| m.03mdr98|       Tommaso Reato|1984-05-12|2084-04-17|          m.03qhpd|     null|         1.96|                    |Death date could ...|       null|\n",
      "|m.011455mt|    Francesco Stanco|1987-02-26|2087-02-01|          m.0dvsjp|     80.0|         1.91|                    |Death date could ...|       null|\n",
      "| m.03h0m3j|   Åse Lill Kimestad|1955-08-16|2055-07-22|                  |     null|         null|                    |Death date could ...|       null|\n",
      "|m.010q3gmb|          Jiexi Wang|          |          |                  |     null|         null|Birthdate could n...|Death date could ...|       null|\n",
      "|m.01117gkg|           R.G. Gopi|          |          |                  |     null|         null|Birthdate could n...|Death date could ...|       null|\n",
      "|m.01148g28|       Edward Annan |          |          |                  |     null|         null|Birthdate could n...|Death date could ...|       null|\n",
      "|m.011ctvf7|       Mikhail Yudin|          |          |                  |     null|         null|Birthdate could n...|Death date could ...|       null|\n",
      "|m.011jknyd|           Ken Smith|          |          |                  |     null|         null|Birthdate could n...|Death date could ...|       null|\n",
      "|m.011kzk7z|       Deepika Mohan|          |          |                  |     null|         null|Birthdate could n...|Death date could ...|       null|\n",
      "|m.011n3txp|       Roy Chowdhury|          |          |                  |     null|         null|Birthdate could n...|Death date could ...|       null|\n",
      "|m.011n3x6k|        Yuriy Volkov|1909-12-18|2009-11-23|                  |     null|         null|Birthdate could n...|                    |       null|\n",
      "|m.011nkhxx|         Thora Aamot|          |          |                  |     null|         null|Birthdate could n...|Death date could ...|       null|\n",
      "| m.01n40wc|          Søs Fenger|1961-12-02|2061-11-07|          m.047jxr|     null|         null|                    |Death date could ...|       null|\n",
      "| m.0260lg8|         Prosdocimus|0000-12-01|0100-11-07|                  |     null|         null|Birthdate could n...|                    |       null|\n",
      "| m.02qh14p|             Salonia|          |          |                  |     null|         null|Birthdate could n...|Death date could ...|       null|\n",
      "| m.02vz3x5|William Alexander...|1784-08-02|1870-04-30|                  |     null|         null|                    |                    |       null|\n",
      "| m.03cqkr3|     Kenneth L. Gile|1947-01-01|2046-12-07|                  |     null|         null|                    |Death date could ...|       null|\n",
      "| m.03wqktc|   Ibrahim Nafi Onat|          |          |                  |     null|         null|Birthdate could n...|Death date could ...|       null|\n",
      "|m.0101b0kh|       Ivan Kasanzew|          |          |                  |     null|         null|Birthdate could n...|Death date could ...|       null|\n",
      "+----------+--------------------+----------+----------+------------------+---------+-------------+--------------------+--------------------+-----------+\n",
      "only showing top 20 rows\n",
      "\n"
     ]
    }
   ],
   "metadata": {}
  },
  {
   "cell_type": "code",
   "execution_count": null,
   "source": [
    "second_interation_nationality.repartition(1).write.mode(\"overwrite\").format('com.databricks.spark.csv') \\\n",
    "    .option(\"mapreduce.fileutputcommitter.marksuccessfuljobs\",\"false\").save('outputs/second_iteration', header = 'true')"
   ],
   "outputs": [
    {
     "output_type": "stream",
     "name": "stderr",
     "text": []
    }
   ],
   "metadata": {}
  },
  {
   "cell_type": "code",
   "execution_count": 539,
   "source": [
    "third_iteration_place_of_birth = second_interation_nationality.join(filtered_aliases, second_interation_nationality[\"place_of_birth_ref\"] == filtered_aliases[\"id\"], \"left\")"
   ],
   "outputs": [],
   "metadata": {}
  },
  {
   "cell_type": "markdown",
   "source": [],
   "metadata": {}
  },
  {
   "cell_type": "code",
   "execution_count": 540,
   "source": [
    "third_iteration_place_of_birth = third_iteration_place_of_birth.withColumnRenamed(\"value\", \"place_of_birth\")\n",
    "third_iteration_place_of_birth = third_iteration_place_of_birth.drop(\"id\", \"predicate\", \"place_of_birth_ref\")"
   ],
   "outputs": [
    {
     "output_type": "stream",
     "name": "stderr",
     "text": []
    }
   ],
   "metadata": {}
  },
  {
   "cell_type": "code",
   "execution_count": null,
   "source": [
    "#third_iteration_place_of_birth.show()"
   ],
   "outputs": [
    {
     "output_type": "stream",
     "name": "stderr",
     "text": []
    },
    {
     "output_type": "stream",
     "name": "stdout",
     "text": [
      "+----------+--------------------+----------+----------+---------+-------------+--------------------+--------------------+-----------+--------------+\n",
      "| id_person|                name|     birth|     death|weight_kg|height_meters|    birth_validation|    death_validation|nationality|place_of_birth|\n",
      "+----------+--------------------+----------+----------+---------+-------------+--------------------+--------------------+-----------+--------------+\n",
      "|m.010q3gmb|          Jiexi Wang|          |          |     null|         null|Birthdate could n...|Death date could ...|       null|          null|\n",
      "|m.01117gkg|           R.G. Gopi|          |          |     null|         null|Birthdate could n...|Death date could ...|       null|          null|\n",
      "|m.01148g28|       Edward Annan |          |          |     null|         null|Birthdate could n...|Death date could ...|       null|          null|\n",
      "|m.011ctvf7|       Mikhail Yudin|          |          |     null|         null|Birthdate could n...|Death date could ...|       null|          null|\n",
      "|m.011jknyd|           Ken Smith|          |          |     null|         null|Birthdate could n...|Death date could ...|       null|          null|\n",
      "|m.011kzk7z|       Deepika Mohan|          |          |     null|         null|Birthdate could n...|Death date could ...|       null|          null|\n",
      "|m.011n3txp|       Roy Chowdhury|          |          |     null|         null|Birthdate could n...|Death date could ...|       null|          null|\n",
      "|m.011n3x6k|        Yuriy Volkov|1909-12-18|2009-11-23|     null|         null|Birthdate could n...|                    |       null|          null|\n",
      "|m.011nkhxx|         Thora Aamot|          |          |     null|         null|Birthdate could n...|Death date could ...|       null|          null|\n",
      "| m.01n40wc|          Søs Fenger|1961-12-02|2061-11-07|     null|         null|                    |Death date could ...|       null|          null|\n",
      "| m.0260lg8|         Prosdocimus|0000-12-01|0100-11-07|     null|         null|Birthdate could n...|                    |       null|          null|\n",
      "| m.02pzbtf|    Wolfgang de Beer|1964-01-02|2063-12-08|     null|         1.81|                    |Death date could ...|       null|          null|\n",
      "| m.02qh14p|             Salonia|          |          |     null|         null|Birthdate could n...|Death date could ...|       null|          null|\n",
      "| m.02vz3x5|William Alexander...|1784-08-02|1870-04-30|     null|         null|                    |                    |       null|          null|\n",
      "| m.03bztdd|      Ibrahima Touré|1985-12-17|2085-11-22|     79.0|         1.88|                    |Death date could ...|       null|          null|\n",
      "| m.03cqkr3|     Kenneth L. Gile|1947-01-01|2046-12-07|     null|         null|                    |Death date could ...|       null|          null|\n",
      "| m.03ct19l|      Henry Blagrove|1887-04-26|1939-10-14|     null|         null|                    |                    |       null|          null|\n",
      "| m.03mdr98|       Tommaso Reato|1984-05-12|2084-04-17|     null|         1.96|                    |Death date could ...|       null|          null|\n",
      "| m.03qk2jc|         Scotty Lago|1987-11-12|2087-10-18|     73.0|         1.85|                    |Death date could ...|       null|          null|\n",
      "| m.03qnv83|         Jim Shepard|1956-12-29|2056-12-04|     null|         null|                    |Death date could ...|       null|          null|\n",
      "+----------+--------------------+----------+----------+---------+-------------+--------------------+--------------------+-----------+--------------+\n",
      "only showing top 20 rows\n",
      "\n"
     ]
    }
   ],
   "metadata": {}
  },
  {
   "cell_type": "code",
   "execution_count": 541,
   "source": [
    "third_iteration_place_of_birth.repartition(1).write.mode(\"overwrite\").format('com.databricks.spark.csv') \\\n",
    "    .option(\"mapreduce.fileutputcommitter.marksuccessfuljobs\",\"false\").save('outputs/third_iteration', header = 'true')"
   ],
   "outputs": [
    {
     "output_type": "stream",
     "name": "stderr",
     "text": [
      "ERROR:root:KeyboardInterrupt while sending command.\n",
      "Traceback (most recent call last):\n",
      "  File \"/opt/homebrew/lib/python3.10/site-packages/py4j/java_gateway.py\", line 1038, in send_command\n",
      "    response = connection.send_command(command)\n",
      "  File \"/opt/homebrew/lib/python3.10/site-packages/py4j/clientserver.py\", line 511, in send_command\n",
      "    answer = smart_decode(self.stream.readline()[:-1])\n",
      "  File \"/opt/homebrew/Cellar/python@3.10/3.10.8/Frameworks/Python.framework/Versions/3.10/lib/python3.10/socket.py\", line 705, in readinto\n",
      "    return self._sock.recv_into(b)\n",
      "KeyboardInterrupt\n"
     ]
    },
    {
     "output_type": "error",
     "ename": "KeyboardInterrupt",
     "evalue": "",
     "traceback": [
      "\u001b[0;31m---------------------------------------------------------------------------\u001b[0m",
      "\u001b[0;31mKeyboardInterrupt\u001b[0m                         Traceback (most recent call last)",
      "Cell \u001b[0;32mIn [541], line 1\u001b[0m\n\u001b[0;32m----> 1\u001b[0m \u001b[43mthird_iteration_place_of_birth\u001b[49m\u001b[38;5;241;43m.\u001b[39;49m\u001b[43mrepartition\u001b[49m\u001b[43m(\u001b[49m\u001b[38;5;241;43m1\u001b[39;49m\u001b[43m)\u001b[49m\u001b[38;5;241;43m.\u001b[39;49m\u001b[43mwrite\u001b[49m\u001b[38;5;241;43m.\u001b[39;49m\u001b[43mmode\u001b[49m\u001b[43m(\u001b[49m\u001b[38;5;124;43m\"\u001b[39;49m\u001b[38;5;124;43moverwrite\u001b[39;49m\u001b[38;5;124;43m\"\u001b[39;49m\u001b[43m)\u001b[49m\u001b[38;5;241;43m.\u001b[39;49m\u001b[43mformat\u001b[49m\u001b[43m(\u001b[49m\u001b[38;5;124;43m'\u001b[39;49m\u001b[38;5;124;43mcom.databricks.spark.csv\u001b[39;49m\u001b[38;5;124;43m'\u001b[39;49m\u001b[43m)\u001b[49m\u001b[43m \u001b[49m\u001b[43m\\\u001b[49m\n\u001b[1;32m      2\u001b[0m \u001b[43m    \u001b[49m\u001b[38;5;241;43m.\u001b[39;49m\u001b[43moption\u001b[49m\u001b[43m(\u001b[49m\u001b[38;5;124;43m\"\u001b[39;49m\u001b[38;5;124;43mmapreduce.fileutputcommitter.marksuccessfuljobs\u001b[39;49m\u001b[38;5;124;43m\"\u001b[39;49m\u001b[43m,\u001b[49m\u001b[38;5;124;43m\"\u001b[39;49m\u001b[38;5;124;43mfalse\u001b[39;49m\u001b[38;5;124;43m\"\u001b[39;49m\u001b[43m)\u001b[49m\u001b[38;5;241;43m.\u001b[39;49m\u001b[43msave\u001b[49m\u001b[43m(\u001b[49m\u001b[38;5;124;43m'\u001b[39;49m\u001b[38;5;124;43moutputs/third_iteration\u001b[39;49m\u001b[38;5;124;43m'\u001b[39;49m\u001b[43m,\u001b[49m\u001b[43m \u001b[49m\u001b[43mheader\u001b[49m\u001b[43m \u001b[49m\u001b[38;5;241;43m=\u001b[39;49m\u001b[43m \u001b[49m\u001b[38;5;124;43m'\u001b[39;49m\u001b[38;5;124;43mtrue\u001b[39;49m\u001b[38;5;124;43m'\u001b[39;49m\u001b[43m)\u001b[49m\n",
      "File \u001b[0;32m/opt/homebrew/lib/python3.10/site-packages/pyspark/sql/readwriter.py:968\u001b[0m, in \u001b[0;36mDataFrameWriter.save\u001b[0;34m(self, path, format, mode, partitionBy, **options)\u001b[0m\n\u001b[1;32m    966\u001b[0m     \u001b[38;5;28mself\u001b[39m\u001b[38;5;241m.\u001b[39m_jwrite\u001b[38;5;241m.\u001b[39msave()\n\u001b[1;32m    967\u001b[0m \u001b[38;5;28;01melse\u001b[39;00m:\n\u001b[0;32m--> 968\u001b[0m     \u001b[38;5;28;43mself\u001b[39;49m\u001b[38;5;241;43m.\u001b[39;49m\u001b[43m_jwrite\u001b[49m\u001b[38;5;241;43m.\u001b[39;49m\u001b[43msave\u001b[49m\u001b[43m(\u001b[49m\u001b[43mpath\u001b[49m\u001b[43m)\u001b[49m\n",
      "File \u001b[0;32m/opt/homebrew/lib/python3.10/site-packages/py4j/java_gateway.py:1320\u001b[0m, in \u001b[0;36mJavaMember.__call__\u001b[0;34m(self, *args)\u001b[0m\n\u001b[1;32m   1313\u001b[0m args_command, temp_args \u001b[38;5;241m=\u001b[39m \u001b[38;5;28mself\u001b[39m\u001b[38;5;241m.\u001b[39m_build_args(\u001b[38;5;241m*\u001b[39margs)\n\u001b[1;32m   1315\u001b[0m command \u001b[38;5;241m=\u001b[39m proto\u001b[38;5;241m.\u001b[39mCALL_COMMAND_NAME \u001b[38;5;241m+\u001b[39m\\\n\u001b[1;32m   1316\u001b[0m     \u001b[38;5;28mself\u001b[39m\u001b[38;5;241m.\u001b[39mcommand_header \u001b[38;5;241m+\u001b[39m\\\n\u001b[1;32m   1317\u001b[0m     args_command \u001b[38;5;241m+\u001b[39m\\\n\u001b[1;32m   1318\u001b[0m     proto\u001b[38;5;241m.\u001b[39mEND_COMMAND_PART\n\u001b[0;32m-> 1320\u001b[0m answer \u001b[38;5;241m=\u001b[39m \u001b[38;5;28;43mself\u001b[39;49m\u001b[38;5;241;43m.\u001b[39;49m\u001b[43mgateway_client\u001b[49m\u001b[38;5;241;43m.\u001b[39;49m\u001b[43msend_command\u001b[49m\u001b[43m(\u001b[49m\u001b[43mcommand\u001b[49m\u001b[43m)\u001b[49m\n\u001b[1;32m   1321\u001b[0m return_value \u001b[38;5;241m=\u001b[39m get_return_value(\n\u001b[1;32m   1322\u001b[0m     answer, \u001b[38;5;28mself\u001b[39m\u001b[38;5;241m.\u001b[39mgateway_client, \u001b[38;5;28mself\u001b[39m\u001b[38;5;241m.\u001b[39mtarget_id, \u001b[38;5;28mself\u001b[39m\u001b[38;5;241m.\u001b[39mname)\n\u001b[1;32m   1324\u001b[0m \u001b[38;5;28;01mfor\u001b[39;00m temp_arg \u001b[38;5;129;01min\u001b[39;00m temp_args:\n",
      "File \u001b[0;32m/opt/homebrew/lib/python3.10/site-packages/py4j/java_gateway.py:1038\u001b[0m, in \u001b[0;36mGatewayClient.send_command\u001b[0;34m(self, command, retry, binary)\u001b[0m\n\u001b[1;32m   1036\u001b[0m connection \u001b[38;5;241m=\u001b[39m \u001b[38;5;28mself\u001b[39m\u001b[38;5;241m.\u001b[39m_get_connection()\n\u001b[1;32m   1037\u001b[0m \u001b[38;5;28;01mtry\u001b[39;00m:\n\u001b[0;32m-> 1038\u001b[0m     response \u001b[38;5;241m=\u001b[39m \u001b[43mconnection\u001b[49m\u001b[38;5;241;43m.\u001b[39;49m\u001b[43msend_command\u001b[49m\u001b[43m(\u001b[49m\u001b[43mcommand\u001b[49m\u001b[43m)\u001b[49m\n\u001b[1;32m   1039\u001b[0m     \u001b[38;5;28;01mif\u001b[39;00m binary:\n\u001b[1;32m   1040\u001b[0m         \u001b[38;5;28;01mreturn\u001b[39;00m response, \u001b[38;5;28mself\u001b[39m\u001b[38;5;241m.\u001b[39m_create_connection_guard(connection)\n",
      "File \u001b[0;32m/opt/homebrew/lib/python3.10/site-packages/py4j/clientserver.py:511\u001b[0m, in \u001b[0;36mClientServerConnection.send_command\u001b[0;34m(self, command)\u001b[0m\n\u001b[1;32m    509\u001b[0m \u001b[38;5;28;01mtry\u001b[39;00m:\n\u001b[1;32m    510\u001b[0m     \u001b[38;5;28;01mwhile\u001b[39;00m \u001b[38;5;28;01mTrue\u001b[39;00m:\n\u001b[0;32m--> 511\u001b[0m         answer \u001b[38;5;241m=\u001b[39m smart_decode(\u001b[38;5;28;43mself\u001b[39;49m\u001b[38;5;241;43m.\u001b[39;49m\u001b[43mstream\u001b[49m\u001b[38;5;241;43m.\u001b[39;49m\u001b[43mreadline\u001b[49m\u001b[43m(\u001b[49m\u001b[43m)\u001b[49m[:\u001b[38;5;241m-\u001b[39m\u001b[38;5;241m1\u001b[39m])\n\u001b[1;32m    512\u001b[0m         logger\u001b[38;5;241m.\u001b[39mdebug(\u001b[38;5;124m\"\u001b[39m\u001b[38;5;124mAnswer received: \u001b[39m\u001b[38;5;132;01m{0}\u001b[39;00m\u001b[38;5;124m\"\u001b[39m\u001b[38;5;241m.\u001b[39mformat(answer))\n\u001b[1;32m    513\u001b[0m         \u001b[38;5;66;03m# Happens when a the other end is dead. There might be an empty\u001b[39;00m\n\u001b[1;32m    514\u001b[0m         \u001b[38;5;66;03m# answer before the socket raises an error.\u001b[39;00m\n",
      "File \u001b[0;32m/opt/homebrew/Cellar/python@3.10/3.10.8/Frameworks/Python.framework/Versions/3.10/lib/python3.10/socket.py:705\u001b[0m, in \u001b[0;36mSocketIO.readinto\u001b[0;34m(self, b)\u001b[0m\n\u001b[1;32m    703\u001b[0m \u001b[38;5;28;01mwhile\u001b[39;00m \u001b[38;5;28;01mTrue\u001b[39;00m:\n\u001b[1;32m    704\u001b[0m     \u001b[38;5;28;01mtry\u001b[39;00m:\n\u001b[0;32m--> 705\u001b[0m         \u001b[38;5;28;01mreturn\u001b[39;00m \u001b[38;5;28;43mself\u001b[39;49m\u001b[38;5;241;43m.\u001b[39;49m\u001b[43m_sock\u001b[49m\u001b[38;5;241;43m.\u001b[39;49m\u001b[43mrecv_into\u001b[49m\u001b[43m(\u001b[49m\u001b[43mb\u001b[49m\u001b[43m)\u001b[49m\n\u001b[1;32m    706\u001b[0m     \u001b[38;5;28;01mexcept\u001b[39;00m timeout:\n\u001b[1;32m    707\u001b[0m         \u001b[38;5;28mself\u001b[39m\u001b[38;5;241m.\u001b[39m_timeout_occurred \u001b[38;5;241m=\u001b[39m \u001b[38;5;28;01mTrue\u001b[39;00m\n",
      "\u001b[0;31mKeyboardInterrupt\u001b[0m: "
     ]
    },
    {
     "output_type": "stream",
     "name": "stderr",
     "text": []
    },
    {
     "output_type": "stream",
     "name": "stdout",
     "text": [
      "22/11/18 13:34:02 WARN TransportChannelHandler: Exception in connection from /10.10.60.222:61181\n",
      "java.io.IOException: Operation timed out\n",
      "\tat java.base/sun.nio.ch.SocketDispatcher.read0(Native Method)\n",
      "\tat java.base/sun.nio.ch.SocketDispatcher.read(SocketDispatcher.java:47)\n",
      "\tat java.base/sun.nio.ch.IOUtil.readIntoNativeBuffer(IOUtil.java:276)\n",
      "\tat java.base/sun.nio.ch.IOUtil.read(IOUtil.java:233)\n",
      "\tat java.base/sun.nio.ch.IOUtil.read(IOUtil.java:223)\n",
      "\tat java.base/sun.nio.ch.SocketChannelImpl.read(SocketChannelImpl.java:417)\n",
      "\tat io.netty.buffer.PooledByteBuf.setBytes(PooledByteBuf.java:258)\n",
      "\tat io.netty.buffer.AbstractByteBuf.writeBytes(AbstractByteBuf.java:1132)\n",
      "\tat io.netty.channel.socket.nio.NioSocketChannel.doReadBytes(NioSocketChannel.java:350)\n",
      "\tat io.netty.channel.nio.AbstractNioByteChannel$NioByteUnsafe.read(AbstractNioByteChannel.java:151)\n",
      "\tat io.netty.channel.nio.NioEventLoop.processSelectedKey(NioEventLoop.java:722)\n",
      "\tat io.netty.channel.nio.NioEventLoop.processSelectedKeysOptimized(NioEventLoop.java:658)\n",
      "\tat io.netty.channel.nio.NioEventLoop.processSelectedKeys(NioEventLoop.java:584)\n",
      "\tat io.netty.channel.nio.NioEventLoop.run(NioEventLoop.java:496)\n",
      "\tat io.netty.util.concurrent.SingleThreadEventExecutor$4.run(SingleThreadEventExecutor.java:986)\n",
      "\tat io.netty.util.internal.ThreadExecutorMap$2.run(ThreadExecutorMap.java:74)\n",
      "\tat io.netty.util.concurrent.FastThreadLocalRunnable.run(FastThreadLocalRunnable.java:30)\n",
      "\tat java.base/java.lang.Thread.run(Thread.java:831)\n"
     ]
    }
   ],
   "metadata": {}
  },
  {
   "cell_type": "code",
   "execution_count": null,
   "source": [
    "third_iteration_place_of_birth.filter(\"place_of_birth IS NOT NULL\").show()"
   ],
   "outputs": [
    {
     "output_type": "stream",
     "name": "stderr",
     "text": []
    },
    {
     "output_type": "stream",
     "name": "stdout",
     "text": [
      "+----------+---------------+----------+----------+---------+-------------+----------------+--------------------+-----------+--------------+\n",
      "| id_person|           name|     birth|     death|weight_kg|height_meters|birth_validation|    death_validation|nationality|place_of_birth|\n",
      "+----------+---------------+----------+----------+---------+-------------+----------------+--------------------+-----------+--------------+\n",
      "|  m.03hhpw|Jacques Gaillot|1935-09-11|2035-08-17|     null|         null|                |Death date could ...|       null|  Saint-Dizier|\n",
      "|m.012hf_jw|   Kedar Gurung|1948-07-09|2048-06-14|     null|         null|                |Death date could ...|       null|        Sikkim|\n",
      "| m.05b385q|   Kelvin Clark|1956-01-30|2056-01-05|     null|         null|                |Death date could ...|       null|        Odessa|\n",
      "+----------+---------------+----------+----------+---------+-------------+----------------+--------------------+-----------+--------------+\n",
      "\n"
     ]
    }
   ],
   "metadata": {}
  },
  {
   "cell_type": "code",
   "execution_count": null,
   "source": [
    "#third_iteration_place_of_birth.filter(\"nationality IS NOT NULL\").show()"
   ],
   "outputs": [
    {
     "output_type": "stream",
     "name": "stderr",
     "text": []
    },
    {
     "output_type": "stream",
     "name": "stdout",
     "text": [
      "+---------+----------+----------+----------+---------+-------------+----------------+----------------+---------------+--------------+\n",
      "|id_person|      name|     birth|     death|weight_kg|height_meters|birth_validation|death_validation|    nationality|place_of_birth|\n",
      "+---------+----------+----------+----------+---------+-------------+----------------+----------------+---------------+--------------+\n",
      "|m.0268v1r|Jirō Tamon|1878-09-28|1934-11-24|     null|         null|                |                |Empire of Japan|          null|\n",
      "+---------+----------+----------+----------+---------+-------------+----------------+----------------+---------------+--------------+\n",
      "\n"
     ]
    }
   ],
   "metadata": {}
  },
  {
   "cell_type": "code",
   "execution_count": null,
   "source": [],
   "outputs": [],
   "metadata": {}
  }
 ],
 "metadata": {
  "kernelspec": {
   "name": "python3",
   "display_name": "Python 3.10.8 64-bit"
  },
  "language_info": {
   "name": "python",
   "version": "3.10.8",
   "mimetype": "text/x-python",
   "codemirror_mode": {
    "name": "ipython",
    "version": 3
   },
   "pygments_lexer": "ipython3",
   "nbconvert_exporter": "python",
   "file_extension": ".py"
  },
  "interpreter": {
   "hash": "b0fa6594d8f4cbf19f97940f81e996739fb7646882a419484c72d19e05852a7e"
  }
 },
 "nbformat": 4,
 "nbformat_minor": 5
}