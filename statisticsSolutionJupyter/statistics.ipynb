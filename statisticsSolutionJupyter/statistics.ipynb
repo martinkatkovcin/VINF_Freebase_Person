{
 "cells": [
  {
   "cell_type": "code",
   "execution_count": 2,
   "id": "c3a4f722-cbb4-420b-99cf-b7514c0eea26",
   "metadata": {},
   "outputs": [],
   "source": [
    "import pandas as pd\n",
    "import seaborn as sns\n",
    "import matplotlib.pyplot as plt"
   ]
  },
  {
   "cell_type": "markdown",
   "id": "b572378b-43a4-443e-8843-4d2ef80e85f5",
   "metadata": {},
   "source": [
    "# Load of final dataset"
   ]
  },
  {
   "cell_type": "code",
   "execution_count": 3,
   "id": "de755745-b7bc-4a9b-a349-fdc502651615",
   "metadata": {},
   "outputs": [],
   "source": [
    "input_file = '../data/final_dataset.csv'\n",
    "final_dataset = pd.read_csv(input_file)"
   ]
  },
  {
   "cell_type": "markdown",
   "id": "6faf4993-d49c-4e8a-a406-96ffa3e53ed8",
   "metadata": {},
   "source": [
    "# Functions used for analysis"
   ]
  },
  {
   "cell_type": "code",
   "execution_count": 4,
   "id": "41d2c1ae-965b-4d2f-a278-f907565cbdbc",
   "metadata": {},
   "outputs": [],
   "source": [
    "def columnDescription(dataframe):\n",
    "    for column in dataframe:\n",
    "        print(\"Column name: \" + str(column))\n",
    "        print(\"Number of values: \" +str(getattr(dataframe, column).shape[0]))\n",
    "        print(\"Number of unique values: \" + str(getattr(dataframe,str(column)).unique().__len__()))\n",
    "        print(\"Number of NA values: \" + str(getattr(dataframe, column).shape[0] - getattr(dataframe, column).dropna().shape[0]))\n",
    "        print(\"\")"
   ]
  },
  {
   "cell_type": "code",
   "execution_count": 5,
   "id": "2ec1cf0a-734b-4139-beec-97e1b369d0ec",
   "metadata": {},
   "outputs": [],
   "source": [
    "def __birthdate_deathdate_to_date__(dataframe, column):\n",
    "    dataframe[column] = pd.to_datetime(dataframe[column])\n",
    "\n",
    "    return dataframe"
   ]
  },
  {
   "cell_type": "code",
   "execution_count": 6,
   "id": "c92a8fe3-74ae-4a36-ab60-40317c3c8fcb",
   "metadata": {},
   "outputs": [],
   "source": [
    "def __fix_format_height_meters__(dataframe, column):\n",
    "    dataframe[column] = dataframe[column].astype('string')\n",
    "    dataframe[column] = dataframe[column].str.replace('.','')\n",
    "    "
   ]
  },
  {
   "cell_type": "code",
   "execution_count": 7,
   "id": "bf03e1b0-3447-4899-9048-11cf402638a8",
   "metadata": {},
   "outputs": [],
   "source": [
    "def __fix_values_height_meters__(dataframe, column):\n",
    "    dataframe[column] = dataframe.apply(lambda x: x + '0' if x is not None or len(x) == 2 else '')\n",
    "    "
   ]
  },
  {
   "cell_type": "code",
   "execution_count": 8,
   "id": "fa7776e9-8b8e-42d1-8ac4-5370dedf2910",
   "metadata": {},
   "outputs": [],
   "source": [
    "def __identify_outliers__(column):\n",
    "    quantil25 = column.quantile(0.25)\n",
    "    quantil75 = column.quantile(0.75)\n",
    "\n",
    "    interquantilrange = quantil75 - quantil25\n",
    "\n",
    "    lower = quantil25 - 1.5 * interquantilrange\n",
    "    upper = quantil75 + 1.5 * interquantilrange\n",
    "\n",
    "    return column[(column < lower) | (column > upper)]"
   ]
  },
  {
   "cell_type": "markdown",
   "id": "117e6f5d-7c4c-4b2f-9488-2dfde0dde22c",
   "metadata": {},
   "source": [
    "# Exploratory data analysis"
   ]
  },
  {
   "cell_type": "code",
   "execution_count": 9,
   "id": "76873d15-0952-4f8a-a0ea-d7bc4420dcc0",
   "metadata": {},
   "outputs": [
    {
     "data": {
      "text/html": [
       "<div>\n",
       "<style scoped>\n",
       "    .dataframe tbody tr th:only-of-type {\n",
       "        vertical-align: middle;\n",
       "    }\n",
       "\n",
       "    .dataframe tbody tr th {\n",
       "        vertical-align: top;\n",
       "    }\n",
       "\n",
       "    .dataframe thead th {\n",
       "        text-align: right;\n",
       "    }\n",
       "</style>\n",
       "<table border=\"1\" class=\"dataframe\">\n",
       "  <thead>\n",
       "    <tr style=\"text-align: right;\">\n",
       "      <th></th>\n",
       "      <th>id_person</th>\n",
       "      <th>name</th>\n",
       "      <th>birth</th>\n",
       "      <th>death</th>\n",
       "      <th>weight_kg</th>\n",
       "      <th>height_meters</th>\n",
       "      <th>birth_validation</th>\n",
       "      <th>death_validation</th>\n",
       "      <th>nationality</th>\n",
       "      <th>place_of_birth</th>\n",
       "    </tr>\n",
       "  </thead>\n",
       "  <tbody>\n",
       "    <tr>\n",
       "      <th>0</th>\n",
       "      <td>m.02vrkzq</td>\n",
       "      <td>Tom Packs</td>\n",
       "      <td>1894-08-15</td>\n",
       "      <td>1964-10-22</td>\n",
       "      <td>NaN</td>\n",
       "      <td>NaN</td>\n",
       "      <td>NaN</td>\n",
       "      <td>NaN</td>\n",
       "      <td>United States of America</td>\n",
       "      <td>Poulithra, Arcadia</td>\n",
       "    </tr>\n",
       "    <tr>\n",
       "      <th>1</th>\n",
       "      <td>m.04lfmyt</td>\n",
       "      <td>Julia Smith</td>\n",
       "      <td>1905-01-25</td>\n",
       "      <td>1989-04-18</td>\n",
       "      <td>NaN</td>\n",
       "      <td>NaN</td>\n",
       "      <td>NaN</td>\n",
       "      <td>NaN</td>\n",
       "      <td>United States of America</td>\n",
       "      <td>Denton</td>\n",
       "    </tr>\n",
       "    <tr>\n",
       "      <th>2</th>\n",
       "      <td>m.0zgp97z</td>\n",
       "      <td>Bodine Boling</td>\n",
       "      <td>1982-08-16</td>\n",
       "      <td>2082-07-22</td>\n",
       "      <td>NaN</td>\n",
       "      <td>NaN</td>\n",
       "      <td>NaN</td>\n",
       "      <td>Death date could not be valid..</td>\n",
       "      <td>United States of America</td>\n",
       "      <td>Denton</td>\n",
       "    </tr>\n",
       "    <tr>\n",
       "      <th>3</th>\n",
       "      <td>m.0zdb3vh</td>\n",
       "      <td>Scotty Young</td>\n",
       "      <td>1992-02-27</td>\n",
       "      <td>2092-02-02</td>\n",
       "      <td>95.0</td>\n",
       "      <td>1.88</td>\n",
       "      <td>NaN</td>\n",
       "      <td>Death date could not be valid..</td>\n",
       "      <td>United States of America</td>\n",
       "      <td>Denton</td>\n",
       "    </tr>\n",
       "    <tr>\n",
       "      <th>4</th>\n",
       "      <td>m.0zf9x5_</td>\n",
       "      <td>Andrew Hamilton</td>\n",
       "      <td>1991-05-29</td>\n",
       "      <td>2091-05-04</td>\n",
       "      <td>100.0</td>\n",
       "      <td>1.83</td>\n",
       "      <td>NaN</td>\n",
       "      <td>Death date could not be valid..</td>\n",
       "      <td>United States of America</td>\n",
       "      <td>Denton</td>\n",
       "    </tr>\n",
       "  </tbody>\n",
       "</table>\n",
       "</div>"
      ],
      "text/plain": [
       "   id_person             name       birth       death  weight_kg  \\\n",
       "0  m.02vrkzq        Tom Packs  1894-08-15  1964-10-22        NaN   \n",
       "1  m.04lfmyt      Julia Smith  1905-01-25  1989-04-18        NaN   \n",
       "2  m.0zgp97z    Bodine Boling  1982-08-16  2082-07-22        NaN   \n",
       "3  m.0zdb3vh     Scotty Young  1992-02-27  2092-02-02       95.0   \n",
       "4  m.0zf9x5_  Andrew Hamilton  1991-05-29  2091-05-04      100.0   \n",
       "\n",
       "   height_meters birth_validation                 death_validation  \\\n",
       "0            NaN              NaN                              NaN   \n",
       "1            NaN              NaN                              NaN   \n",
       "2            NaN              NaN  Death date could not be valid..   \n",
       "3           1.88              NaN  Death date could not be valid..   \n",
       "4           1.83              NaN  Death date could not be valid..   \n",
       "\n",
       "                nationality      place_of_birth  \n",
       "0  United States of America  Poulithra, Arcadia  \n",
       "1  United States of America              Denton  \n",
       "2  United States of America              Denton  \n",
       "3  United States of America              Denton  \n",
       "4  United States of America              Denton  "
      ]
     },
     "execution_count": 9,
     "metadata": {},
     "output_type": "execute_result"
    }
   ],
   "source": [
    "final_dataset.head(5)"
   ]
  },
  {
   "cell_type": "code",
   "execution_count": 10,
   "id": "17f2929a-5ab6-43e5-ad9f-483448aac712",
   "metadata": {},
   "outputs": [
    {
     "data": {
      "text/html": [
       "<div>\n",
       "<style scoped>\n",
       "    .dataframe tbody tr th:only-of-type {\n",
       "        vertical-align: middle;\n",
       "    }\n",
       "\n",
       "    .dataframe tbody tr th {\n",
       "        vertical-align: top;\n",
       "    }\n",
       "\n",
       "    .dataframe thead th {\n",
       "        text-align: right;\n",
       "    }\n",
       "</style>\n",
       "<table border=\"1\" class=\"dataframe\">\n",
       "  <thead>\n",
       "    <tr style=\"text-align: right;\">\n",
       "      <th></th>\n",
       "      <th>id_person</th>\n",
       "      <th>name</th>\n",
       "      <th>birth</th>\n",
       "      <th>death</th>\n",
       "      <th>weight_kg</th>\n",
       "      <th>height_meters</th>\n",
       "      <th>birth_validation</th>\n",
       "      <th>death_validation</th>\n",
       "      <th>nationality</th>\n",
       "      <th>place_of_birth</th>\n",
       "    </tr>\n",
       "  </thead>\n",
       "  <tbody>\n",
       "    <tr>\n",
       "      <th>768630</th>\n",
       "      <td>m.09hd28</td>\n",
       "      <td>Vince Papale</td>\n",
       "      <td>1946-02-09</td>\n",
       "      <td>2046-01-15</td>\n",
       "      <td>88.5</td>\n",
       "      <td>1.88</td>\n",
       "      <td>NaN</td>\n",
       "      <td>Death date could not be valid..</td>\n",
       "      <td>United States of America</td>\n",
       "      <td>Chester</td>\n",
       "    </tr>\n",
       "    <tr>\n",
       "      <th>768631</th>\n",
       "      <td>m.04_gxj</td>\n",
       "      <td>Joey Stefano</td>\n",
       "      <td>1968-01-01</td>\n",
       "      <td>1994-11-26</td>\n",
       "      <td>NaN</td>\n",
       "      <td>1.77</td>\n",
       "      <td>NaN</td>\n",
       "      <td>NaN</td>\n",
       "      <td>United States of America</td>\n",
       "      <td>Chester</td>\n",
       "    </tr>\n",
       "    <tr>\n",
       "      <th>768632</th>\n",
       "      <td>m.0w4ysg3</td>\n",
       "      <td>Taariq Cephas</td>\n",
       "      <td>1993-06-30</td>\n",
       "      <td>2093-06-05</td>\n",
       "      <td>68.0</td>\n",
       "      <td>1.78</td>\n",
       "      <td>NaN</td>\n",
       "      <td>Death date could not be valid..</td>\n",
       "      <td>United States of America</td>\n",
       "      <td>Chester</td>\n",
       "    </tr>\n",
       "    <tr>\n",
       "      <th>768633</th>\n",
       "      <td>m.0dqj5y</td>\n",
       "      <td>Sylvanus Morley</td>\n",
       "      <td>1883-06-07</td>\n",
       "      <td>1948-09-02</td>\n",
       "      <td>NaN</td>\n",
       "      <td>NaN</td>\n",
       "      <td>NaN</td>\n",
       "      <td>NaN</td>\n",
       "      <td>United States of America</td>\n",
       "      <td>Chester</td>\n",
       "    </tr>\n",
       "    <tr>\n",
       "      <th>768634</th>\n",
       "      <td>m.0yjzq3p</td>\n",
       "      <td>Lonnie Richardson</td>\n",
       "      <td>1992-09-24</td>\n",
       "      <td>2092-08-30</td>\n",
       "      <td>85.0</td>\n",
       "      <td>1.80</td>\n",
       "      <td>NaN</td>\n",
       "      <td>Death date could not be valid..</td>\n",
       "      <td>United States of America</td>\n",
       "      <td>Chester</td>\n",
       "    </tr>\n",
       "  </tbody>\n",
       "</table>\n",
       "</div>"
      ],
      "text/plain": [
       "        id_person               name       birth       death  weight_kg  \\\n",
       "768630   m.09hd28       Vince Papale  1946-02-09  2046-01-15       88.5   \n",
       "768631   m.04_gxj       Joey Stefano  1968-01-01  1994-11-26        NaN   \n",
       "768632  m.0w4ysg3      Taariq Cephas  1993-06-30  2093-06-05       68.0   \n",
       "768633   m.0dqj5y    Sylvanus Morley  1883-06-07  1948-09-02        NaN   \n",
       "768634  m.0yjzq3p  Lonnie Richardson  1992-09-24  2092-08-30       85.0   \n",
       "\n",
       "        height_meters birth_validation                 death_validation  \\\n",
       "768630           1.88              NaN  Death date could not be valid..   \n",
       "768631           1.77              NaN                              NaN   \n",
       "768632           1.78              NaN  Death date could not be valid..   \n",
       "768633            NaN              NaN                              NaN   \n",
       "768634           1.80              NaN  Death date could not be valid..   \n",
       "\n",
       "                     nationality place_of_birth  \n",
       "768630  United States of America        Chester  \n",
       "768631  United States of America        Chester  \n",
       "768632  United States of America        Chester  \n",
       "768633  United States of America        Chester  \n",
       "768634  United States of America        Chester  "
      ]
     },
     "execution_count": 10,
     "metadata": {},
     "output_type": "execute_result"
    }
   ],
   "source": [
    "final_dataset.tail(5)"
   ]
  },
  {
   "cell_type": "code",
   "execution_count": 11,
   "id": "9b600ba0-f8a3-4819-8076-e1dc98a2cdb6",
   "metadata": {},
   "outputs": [
    {
     "name": "stdout",
     "output_type": "stream",
     "text": [
      "<class 'pandas.core.frame.DataFrame'>\n",
      "RangeIndex: 768635 entries, 0 to 768634\n",
      "Data columns (total 10 columns):\n",
      " #   Column            Non-Null Count   Dtype  \n",
      "---  ------            --------------   -----  \n",
      " 0   id_person         768635 non-null  object \n",
      " 1   name              768635 non-null  object \n",
      " 2   birth             728270 non-null  object \n",
      " 3   death             728270 non-null  object \n",
      " 4   weight_kg         105996 non-null  float64\n",
      " 5   height_meters     193749 non-null  float64\n",
      " 6   birth_validation  42286 non-null   object \n",
      " 7   death_validation  545079 non-null  object \n",
      " 8   nationality       768635 non-null  object \n",
      " 9   place_of_birth    768635 non-null  object \n",
      "dtypes: float64(2), object(8)\n",
      "memory usage: 58.6+ MB\n"
     ]
    }
   ],
   "source": [
    "final_dataset.info()"
   ]
  },
  {
   "cell_type": "code",
   "execution_count": 12,
   "id": "e4dff155-f71d-405f-8e35-c266c4df03b8",
   "metadata": {},
   "outputs": [
    {
     "data": {
      "text/html": [
       "<div>\n",
       "<style scoped>\n",
       "    .dataframe tbody tr th:only-of-type {\n",
       "        vertical-align: middle;\n",
       "    }\n",
       "\n",
       "    .dataframe tbody tr th {\n",
       "        vertical-align: top;\n",
       "    }\n",
       "\n",
       "    .dataframe thead th {\n",
       "        text-align: right;\n",
       "    }\n",
       "</style>\n",
       "<table border=\"1\" class=\"dataframe\">\n",
       "  <thead>\n",
       "    <tr style=\"text-align: right;\">\n",
       "      <th></th>\n",
       "      <th>weight_kg</th>\n",
       "      <th>height_meters</th>\n",
       "    </tr>\n",
       "  </thead>\n",
       "  <tbody>\n",
       "    <tr>\n",
       "      <th>count</th>\n",
       "      <td>105996.000000</td>\n",
       "      <td>193749.000000</td>\n",
       "    </tr>\n",
       "    <tr>\n",
       "      <th>mean</th>\n",
       "      <td>84.005812</td>\n",
       "      <td>1.814626</td>\n",
       "    </tr>\n",
       "    <tr>\n",
       "      <th>std</th>\n",
       "      <td>19.542353</td>\n",
       "      <td>1.339395</td>\n",
       "    </tr>\n",
       "    <tr>\n",
       "      <th>min</th>\n",
       "      <td>1.050000</td>\n",
       "      <td>0.000000</td>\n",
       "    </tr>\n",
       "    <tr>\n",
       "      <th>25%</th>\n",
       "      <td>72.000000</td>\n",
       "      <td>1.750000</td>\n",
       "    </tr>\n",
       "    <tr>\n",
       "      <th>50%</th>\n",
       "      <td>81.460000</td>\n",
       "      <td>1.800000</td>\n",
       "    </tr>\n",
       "    <tr>\n",
       "      <th>75%</th>\n",
       "      <td>93.000000</td>\n",
       "      <td>1.860000</td>\n",
       "    </tr>\n",
       "    <tr>\n",
       "      <th>max</th>\n",
       "      <td>397.000000</td>\n",
       "      <td>188.000000</td>\n",
       "    </tr>\n",
       "  </tbody>\n",
       "</table>\n",
       "</div>"
      ],
      "text/plain": [
       "           weight_kg  height_meters\n",
       "count  105996.000000  193749.000000\n",
       "mean       84.005812       1.814626\n",
       "std        19.542353       1.339395\n",
       "min         1.050000       0.000000\n",
       "25%        72.000000       1.750000\n",
       "50%        81.460000       1.800000\n",
       "75%        93.000000       1.860000\n",
       "max       397.000000     188.000000"
      ]
     },
     "execution_count": 12,
     "metadata": {},
     "output_type": "execute_result"
    }
   ],
   "source": [
    "final_dataset.describe()"
   ]
  },
  {
   "cell_type": "code",
   "execution_count": 13,
   "id": "948db6ce-6a35-4fb6-ab01-ea0b49023dfc",
   "metadata": {},
   "outputs": [
    {
     "data": {
      "text/plain": [
       "768635"
      ]
     },
     "execution_count": 13,
     "metadata": {},
     "output_type": "execute_result"
    }
   ],
   "source": [
    "final_dataset.shape[0] # number of rows"
   ]
  },
  {
   "cell_type": "code",
   "execution_count": 14,
   "id": "4c92f631-0438-41ec-af2d-ee12f895c758",
   "metadata": {},
   "outputs": [
    {
     "name": "stdout",
     "output_type": "stream",
     "text": [
      "10\n",
      "Index(['id_person', 'name', 'birth', 'death', 'weight_kg', 'height_meters',\n",
      "       'birth_validation', 'death_validation', 'nationality',\n",
      "       'place_of_birth'],\n",
      "      dtype='object')\n"
     ]
    }
   ],
   "source": [
    "print(final_dataset.shape[1]) # number of columns\n",
    "print(final_dataset.columns) # name of columns"
   ]
  },
  {
   "cell_type": "code",
   "execution_count": 15,
   "id": "02731bce-0bce-47b2-beea-aeaf9f493f21",
   "metadata": {},
   "outputs": [
    {
     "name": "stdout",
     "output_type": "stream",
     "text": [
      "Column name: id_person\n",
      "Number of values: 768635\n",
      "Number of unique values: 708764\n",
      "Number of NA values: 0\n",
      "\n",
      "Column name: name\n",
      "Number of values: 768635\n",
      "Number of unique values: 674509\n",
      "Number of NA values: 0\n",
      "\n",
      "Column name: birth\n",
      "Number of values: 768635\n",
      "Number of unique values: 78826\n",
      "Number of NA values: 40365\n",
      "\n",
      "Column name: death\n",
      "Number of values: 768635\n",
      "Number of unique values: 91337\n",
      "Number of NA values: 40365\n",
      "\n",
      "Column name: weight_kg\n",
      "Number of values: 768635\n",
      "Number of unique values: 1347\n",
      "Number of NA values: 662639\n",
      "\n",
      "Column name: height_meters\n",
      "Number of values: 768635\n",
      "Number of unique values: 183\n",
      "Number of NA values: 574886\n",
      "\n",
      "Column name: birth_validation\n",
      "Number of values: 768635\n",
      "Number of unique values: 2\n",
      "Number of NA values: 726349\n",
      "\n",
      "Column name: death_validation\n",
      "Number of values: 768635\n",
      "Number of unique values: 2\n",
      "Number of NA values: 223556\n",
      "\n",
      "Column name: nationality\n",
      "Number of values: 768635\n",
      "Number of unique values: 578\n",
      "Number of NA values: 0\n",
      "\n",
      "Column name: place_of_birth\n",
      "Number of values: 768635\n",
      "Number of unique values: 62902\n",
      "Number of NA values: 0\n",
      "\n"
     ]
    }
   ],
   "source": [
    "columnDescription(final_dataset)"
   ]
  },
  {
   "cell_type": "code",
   "execution_count": 16,
   "id": "a5b029bc-b983-442f-a41d-bc56ce5bd567",
   "metadata": {},
   "outputs": [
    {
     "data": {
      "text/plain": [
       "<seaborn.axisgrid.FacetGrid at 0x294588c70>"
      ]
     },
     "execution_count": 16,
     "metadata": {},
     "output_type": "execute_result"
    },
    {
     "data": {
      "text/plain": [
       "<Figure size 1000x600 with 0 Axes>"
      ]
     },
     "metadata": {},
     "output_type": "display_data"
    },
    {
     "data": {
      "image/png": "[encoded data removed]",
      "text/plain": [
       "<Figure size 737.236x500 with 1 Axes>"
      ]
     },
     "metadata": {},
     "output_type": "display_data"
    }
   ],
   "source": [
    "plt.figure(figsize=(10,6))\n",
    "sns.displot(\n",
    "    data=final_dataset.isna().melt(value_name=\"Missing values\"),\n",
    "    y=\"variable\",\n",
    "    hue=\"Missing values\",\n",
    "    multiple=\"fill\",\n",
    "    aspect=1.25\n",
    ")"
   ]
  },
  {
   "cell_type": "code",
   "execution_count": 17,
   "id": "4f79e6d3-410a-4513-924a-368f5d43572a",
   "metadata": {},
   "outputs": [
    {
     "data": {
      "text/plain": [
       "<AxesSubplot:ylabel='weight_kg'>"
      ]
     },
     "execution_count": 17,
     "metadata": {},
     "output_type": "execute_result"
    },
    {
     "data": {
      "image/png": "[encoded data removed]",
      "text/plain": [
       "<Figure size 640x480 with 1 Axes>"
      ]
     },
     "metadata": {},
     "output_type": "display_data"
    }
   ],
   "source": [
    "sns.boxplot(y = final_dataset.weight_kg)"
   ]
  },
  {
   "cell_type": "code",
   "execution_count": 20,
   "id": "0961d81d-f9d3-4173-b564-080b3b5aa779",
   "metadata": {},
   "outputs": [
    {
     "data": {
      "text/plain": [
       "<AxesSubplot:ylabel='height_meters'>"
      ]
     },
     "execution_count": 20,
     "metadata": {},
     "output_type": "execute_result"
    },
    {
     "data": {
      "image/png": "[encoded data removed]",
      "text/plain": [
       "<Figure size 640x480 with 1 Axes>"
      ]
     },
     "metadata": {},
     "output_type": "display_data"
    }
   ],
   "source": [
    "sns.boxplot(y = final_dataset.height_meters)"
   ]
  },
  {
   "cell_type": "code",
   "execution_count": 34,
   "id": "ecef697b-4d3d-4e29-80b5-58e1411f92d9",
   "metadata": {},
   "outputs": [
    {
     "data": {
      "text/plain": [
       "(Text(0.5, 0, ''), Text(0, 0.5, ''))"
      ]
     },
     "execution_count": 34,
     "metadata": {},
     "output_type": "execute_result"
    },
    {
     "data": {
      "image/png": "[encoded data removed]",
      "text/plain": [
       "<Figure size 640x480 with 1 Axes>"
      ]
     },
     "metadata": {},
     "output_type": "display_data"
    }
   ],
   "source": [
    "final_dataset[\"nationality\"].value_counts()[:15].plot(kind = \"pie\", title = \"Distribúcia osôb podľa národnosti\")\n",
    "plt.xlabel(''), plt.ylabel('')"
   ]
  },
  {
   "cell_type": "code",
   "execution_count": 25,
   "id": "83da7110",
   "metadata": {},
   "outputs": [],
   "source": [
    "table = pd.pivot_table(final_dataset, aggfunc = \"size\" , columns = \"nationality\")"
   ]
  },
  {
   "cell_type": "code",
   "execution_count": 29,
   "id": "6fee66db",
   "metadata": {},
   "outputs": [
    {
     "data": {
      "text/plain": [
       "United States of America    224944\n",
       "Germany                      43630\n",
       "United Kingdom               39835\n",
       "England                      32103\n",
       "Canada                       30516\n",
       "Name: nationality, dtype: int64"
      ]
     },
     "execution_count": 29,
     "metadata": {},
     "output_type": "execute_result"
    }
   ],
   "source": [
    "final_dataset[\"nationality\"].value_counts()[:5]"
   ]
  },
  {
   "cell_type": "code",
   "execution_count": 45,
   "id": "5b63e9a7",
   "metadata": {},
   "outputs": [
    {
     "data": {
      "text/plain": [
       "(Text(0.5, 0, ''), Text(0, 0.5, ''))"
      ]
     },
     "execution_count": 45,
     "metadata": {},
     "output_type": "execute_result"
    },
    {
     "data": {
      "image/png": "[encoded data removed]",
      "text/plain": [
       "<Figure size 640x480 with 1 Axes>"
      ]
     },
     "metadata": {},
     "output_type": "display_data"
    }
   ],
   "source": [
    "final_dataset[\"place_of_birth\"].value_counts()[:15].sort_values().plot(kind = \"barh\", title = \"Distribúcia osôb podľa miesta narodenia\")\n",
    "plt.xlabel(''), plt.ylabel('')"
   ]
  },
  {
   "cell_type": "code",
   "execution_count": 39,
   "id": "a4e3f941",
   "metadata": {},
   "outputs": [
    {
     "data": {
      "text/html": [
       "<div>\n",
       "<style scoped>\n",
       "    .dataframe tbody tr th:only-of-type {\n",
       "        vertical-align: middle;\n",
       "    }\n",
       "\n",
       "    .dataframe tbody tr th {\n",
       "        vertical-align: top;\n",
       "    }\n",
       "\n",
       "    .dataframe thead th {\n",
       "        text-align: right;\n",
       "    }\n",
       "</style>\n",
       "<table border=\"1\" class=\"dataframe\">\n",
       "  <thead>\n",
       "    <tr style=\"text-align: right;\">\n",
       "      <th></th>\n",
       "      <th>index</th>\n",
       "      <th>place_of_birth</th>\n",
       "    </tr>\n",
       "  </thead>\n",
       "  <tbody>\n",
       "    <tr>\n",
       "      <th>0</th>\n",
       "      <td>United States of America</td>\n",
       "      <td>12473</td>\n",
       "    </tr>\n",
       "    <tr>\n",
       "      <th>1</th>\n",
       "      <td>New York City</td>\n",
       "      <td>10763</td>\n",
       "    </tr>\n",
       "    <tr>\n",
       "      <th>2</th>\n",
       "      <td>Denmark</td>\n",
       "      <td>10003</td>\n",
       "    </tr>\n",
       "    <tr>\n",
       "      <th>3</th>\n",
       "      <td>London</td>\n",
       "      <td>9671</td>\n",
       "    </tr>\n",
       "    <tr>\n",
       "      <th>4</th>\n",
       "      <td>Los Angeles</td>\n",
       "      <td>7068</td>\n",
       "    </tr>\n",
       "    <tr>\n",
       "      <th>5</th>\n",
       "      <td>Paris</td>\n",
       "      <td>5644</td>\n",
       "    </tr>\n",
       "    <tr>\n",
       "      <th>6</th>\n",
       "      <td>Chicago</td>\n",
       "      <td>5466</td>\n",
       "    </tr>\n",
       "    <tr>\n",
       "      <th>7</th>\n",
       "      <td>South Korea</td>\n",
       "      <td>4588</td>\n",
       "    </tr>\n",
       "    <tr>\n",
       "      <th>8</th>\n",
       "      <td>Brooklyn</td>\n",
       "      <td>4448</td>\n",
       "    </tr>\n",
       "    <tr>\n",
       "      <th>9</th>\n",
       "      <td>Berlin</td>\n",
       "      <td>4336</td>\n",
       "    </tr>\n",
       "    <tr>\n",
       "      <th>10</th>\n",
       "      <td>Budapest</td>\n",
       "      <td>4130</td>\n",
       "    </tr>\n",
       "    <tr>\n",
       "      <th>11</th>\n",
       "      <td>Moscow</td>\n",
       "      <td>3696</td>\n",
       "    </tr>\n",
       "    <tr>\n",
       "      <th>12</th>\n",
       "      <td>Copenhagen</td>\n",
       "      <td>3693</td>\n",
       "    </tr>\n",
       "    <tr>\n",
       "      <th>13</th>\n",
       "      <td>Philadelphia</td>\n",
       "      <td>3642</td>\n",
       "    </tr>\n",
       "    <tr>\n",
       "      <th>14</th>\n",
       "      <td>England</td>\n",
       "      <td>3588</td>\n",
       "    </tr>\n",
       "  </tbody>\n",
       "</table>\n",
       "</div>"
      ],
      "text/plain": [
       "                       index  place_of_birth\n",
       "0   United States of America           12473\n",
       "1              New York City           10763\n",
       "2                    Denmark           10003\n",
       "3                     London            9671\n",
       "4                Los Angeles            7068\n",
       "5                      Paris            5644\n",
       "6                    Chicago            5466\n",
       "7                South Korea            4588\n",
       "8                   Brooklyn            4448\n",
       "9                     Berlin            4336\n",
       "10                  Budapest            4130\n",
       "11                    Moscow            3696\n",
       "12                Copenhagen            3693\n",
       "13              Philadelphia            3642\n",
       "14                   England            3588"
      ]
     },
     "execution_count": 39,
     "metadata": {},
     "output_type": "execute_result"
    }
   ],
   "source": [
    "df"
   ]
  },
  {
   "cell_type": "code",
   "execution_count": null,
   "id": "95d2a9b7",
   "metadata": {},
   "outputs": [],
   "source": []
  }
 ],
 "metadata": {
  "kernelspec": {
   "display_name": "Python 3 (ipykernel)",
   "language": "python",
   "name": "python3"
  },
  "language_info": {
   "codemirror_mode": {
    "name": "ipython",
    "version": 3
   },
   "file_extension": ".py",
   "mimetype": "text/x-python",
   "name": "python",
   "nbconvert_exporter": "python",
   "pygments_lexer": "ipython3",
   "version": "3.9.14"
  }
 },
 "nbformat": 4,
 "nbformat_minor": 5
}
